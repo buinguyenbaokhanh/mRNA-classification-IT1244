{
  "nbformat": 4,
  "nbformat_minor": 0,
  "metadata": {
    "colab": {
      "provenance": []
    },
    "kernelspec": {
      "name": "python3",
      "display_name": "Python 3"
    },
    "language_info": {
      "name": "python"
    }
  },
  "cells": [
    {
      "cell_type": "markdown",
      "source": [
        "### Random Forest for mRNA vs non-mRNA"
      ],
      "metadata": {
        "id": "Wityo2I7uWQ6"
      }
    },
    {
      "cell_type": "code",
      "source": [
        "import numpy as np\n",
        "import pandas as pd\n",
        "from sklearn.model_selection import train_test_split\n",
        "from sklearn.metrics import (\n",
        "    confusion_matrix,\n",
        "    matthews_corrcoef,\n",
        "    roc_auc_score\n",
        ")\n",
        "from sklearn.ensemble import RandomForestClassifier\n",
        "from sklearn.feature_selection import VarianceThreshold"
      ],
      "metadata": {
        "id": "v5Md2vmzub_-"
      },
      "execution_count": 47,
      "outputs": []
    },
    {
      "cell_type": "code",
      "source": [
        "# Paths and parameters\n",
        "TRAIN_PATH = \"features_df.csv\"\n",
        "TEST_PATH  = \"features_test.csv\"\n",
        "OUTPUT_CSV = \"rf_predictions.csv\"\n",
        "\n",
        "RANDOM_STATE = 42\n",
        "VALIDATION_SIZE = 0.20\n",
        "ZERO_VARIANCE_THRESHOLD = 0.0\n",
        "\n",
        "N_TREES = 400\n",
        "MAX_DEPTH = 20\n",
        "MAX_SAMPLES_PER_TREE = 0.60\n",
        "MAX_FEATURES_PER_SPLIT = \"sqrt\"\n",
        "CLASS_WEIGHT_MODE = \"balanced_subsample\""
      ],
      "metadata": {
        "id": "05h1shboue8z"
      },
      "execution_count": 48,
      "outputs": []
    },
    {
      "cell_type": "code",
      "source": [
        "# 1) Helper functions\n",
        "## Finds threshold (0–1) that gives best Matthews Corr. Coefficient (MCC).\n",
        "def pick_threshold_by_mcc(y_true, y_prob):\n",
        "    thresholds = np.linspace(0, 1, 1001)\n",
        "    best_thr, best_mcc = 0.5, -1.0\n",
        "    for t in thresholds:\n",
        "        y_pred = (y_prob >= t).astype(int)\n",
        "        mcc = matthews_corrcoef(y_true, y_pred)\n",
        "        if mcc > best_mcc:\n",
        "            best_mcc = mcc\n",
        "            best_thr = t\n",
        "    return best_thr, best_mcc\n",
        "\n",
        "## Align df_new to match training column order exactly.\n",
        "## Missing columns are added as 0. Extra columns are dropped.\n",
        "def align_to_train_columns(df_new, train_cols_in_order):\n",
        "    return df_new.reindex(columns=train_cols_in_order, fill_value=0.0)"
      ],
      "metadata": {
        "id": "VYj0iJHbusqO"
      },
      "execution_count": 49,
      "outputs": []
    },
    {
      "cell_type": "code",
      "source": [
        "# 2) Load and prepare data\n",
        "train_df = pd.read_csv(TRAIN_PATH)\n",
        "\n",
        "non_feature_cols = [c for c in [\"name\"] if c in train_df.columns]\n",
        "X_raw = train_df.drop(columns=[\"class\"] + non_feature_cols, errors=\"ignore\")\n",
        "\n",
        "y_all = train_df[\"class\"].astype(int).to_numpy()\n",
        "train_original_cols = list(X_raw.columns)"
      ],
      "metadata": {
        "id": "CxvHJEw-vVH2"
      },
      "execution_count": 50,
      "outputs": []
    },
    {
      "cell_type": "code",
      "source": [
        "# 3) Remove zero-variance features\n",
        "selector = VarianceThreshold(threshold=ZERO_VARIANCE_THRESHOLD)\n",
        "X_all = pd.DataFrame(\n",
        "    selector.fit_transform(X_raw),\n",
        "    columns=[col for col, keep in zip(train_original_cols, selector.get_support()) if keep]\n",
        ")\n",
        "selected_feature_names = list(X_all.columns)\n",
        "\n",
        "# Ensure numeric types and no NaNs\n",
        "X_all = X_all.apply(pd.to_numeric, errors=\"coerce\").fillna(0.0)"
      ],
      "metadata": {
        "id": "WA-mae36ve_v"
      },
      "execution_count": 51,
      "outputs": []
    },
    {
      "cell_type": "code",
      "source": [
        "# 4) Split for validation\n",
        "X_train, X_val, y_train, y_val = train_test_split(\n",
        "    X_all, y_all,\n",
        "    test_size=VALIDATION_SIZE,\n",
        "    stratify=y_all,\n",
        "    random_state=RANDOM_STATE\n",
        ")"
      ],
      "metadata": {
        "id": "n3O-hLuKvlNT"
      },
      "execution_count": 52,
      "outputs": []
    },
    {
      "cell_type": "code",
      "source": [
        "# 5) Train first RF for threshold tuning\n",
        "rf_val = RandomForestClassifier(\n",
        "    n_estimators=N_TREES,\n",
        "    max_depth=MAX_DEPTH,\n",
        "    max_features=MAX_FEATURES_PER_SPLIT,\n",
        "    bootstrap=True,\n",
        "    max_samples=MAX_SAMPLES_PER_TREE,\n",
        "    class_weight=CLASS_WEIGHT_MODE,\n",
        "    n_jobs=-1,\n",
        "    random_state=RANDOM_STATE\n",
        ")\n",
        "rf_val.fit(X_train, y_train)\n",
        "\n",
        "val_prob = rf_val.predict_proba(X_val)[:, 1]\n",
        "best_thr, best_mcc = pick_threshold_by_mcc(y_val, val_prob)"
      ],
      "metadata": {
        "id": "EHNe3mUtvm2x"
      },
      "execution_count": 53,
      "outputs": []
    },
    {
      "cell_type": "code",
      "source": [
        "# 6) Retrain on all training data\n",
        "rf_full = RandomForestClassifier(\n",
        "    n_estimators=N_TREES,\n",
        "    max_depth=MAX_DEPTH,\n",
        "    max_features=MAX_FEATURES_PER_SPLIT,\n",
        "    bootstrap=True,\n",
        "    max_samples=MAX_SAMPLES_PER_TREE,\n",
        "    class_weight=CLASS_WEIGHT_MODE,\n",
        "    n_jobs=-1,\n",
        "    random_state=RANDOM_STATE\n",
        ")\n",
        "rf_full.fit(X_all, y_all)"
      ],
      "metadata": {
        "colab": {
          "base_uri": "https://localhost:8080/",
          "height": 114
        },
        "id": "3Pi1M8ozvvh2",
        "outputId": "730e917d-7823-48ca-f097-dc9505f7d37c"
      },
      "execution_count": 54,
      "outputs": [
        {
          "output_type": "execute_result",
          "data": {
            "text/plain": [
              "RandomForestClassifier(class_weight='balanced_subsample', max_depth=20,\n",
              "                       max_samples=0.6, n_estimators=400, n_jobs=-1,\n",
              "                       random_state=42)"
            ],
            "text/html": [
              "<style>#sk-container-id-3 {\n",
              "  /* Definition of color scheme common for light and dark mode */\n",
              "  --sklearn-color-text: #000;\n",
              "  --sklearn-color-text-muted: #666;\n",
              "  --sklearn-color-line: gray;\n",
              "  /* Definition of color scheme for unfitted estimators */\n",
              "  --sklearn-color-unfitted-level-0: #fff5e6;\n",
              "  --sklearn-color-unfitted-level-1: #f6e4d2;\n",
              "  --sklearn-color-unfitted-level-2: #ffe0b3;\n",
              "  --sklearn-color-unfitted-level-3: chocolate;\n",
              "  /* Definition of color scheme for fitted estimators */\n",
              "  --sklearn-color-fitted-level-0: #f0f8ff;\n",
              "  --sklearn-color-fitted-level-1: #d4ebff;\n",
              "  --sklearn-color-fitted-level-2: #b3dbfd;\n",
              "  --sklearn-color-fitted-level-3: cornflowerblue;\n",
              "\n",
              "  /* Specific color for light theme */\n",
              "  --sklearn-color-text-on-default-background: var(--sg-text-color, var(--theme-code-foreground, var(--jp-content-font-color1, black)));\n",
              "  --sklearn-color-background: var(--sg-background-color, var(--theme-background, var(--jp-layout-color0, white)));\n",
              "  --sklearn-color-border-box: var(--sg-text-color, var(--theme-code-foreground, var(--jp-content-font-color1, black)));\n",
              "  --sklearn-color-icon: #696969;\n",
              "\n",
              "  @media (prefers-color-scheme: dark) {\n",
              "    /* Redefinition of color scheme for dark theme */\n",
              "    --sklearn-color-text-on-default-background: var(--sg-text-color, var(--theme-code-foreground, var(--jp-content-font-color1, white)));\n",
              "    --sklearn-color-background: var(--sg-background-color, var(--theme-background, var(--jp-layout-color0, #111)));\n",
              "    --sklearn-color-border-box: var(--sg-text-color, var(--theme-code-foreground, var(--jp-content-font-color1, white)));\n",
              "    --sklearn-color-icon: #878787;\n",
              "  }\n",
              "}\n",
              "\n",
              "#sk-container-id-3 {\n",
              "  color: var(--sklearn-color-text);\n",
              "}\n",
              "\n",
              "#sk-container-id-3 pre {\n",
              "  padding: 0;\n",
              "}\n",
              "\n",
              "#sk-container-id-3 input.sk-hidden--visually {\n",
              "  border: 0;\n",
              "  clip: rect(1px 1px 1px 1px);\n",
              "  clip: rect(1px, 1px, 1px, 1px);\n",
              "  height: 1px;\n",
              "  margin: -1px;\n",
              "  overflow: hidden;\n",
              "  padding: 0;\n",
              "  position: absolute;\n",
              "  width: 1px;\n",
              "}\n",
              "\n",
              "#sk-container-id-3 div.sk-dashed-wrapped {\n",
              "  border: 1px dashed var(--sklearn-color-line);\n",
              "  margin: 0 0.4em 0.5em 0.4em;\n",
              "  box-sizing: border-box;\n",
              "  padding-bottom: 0.4em;\n",
              "  background-color: var(--sklearn-color-background);\n",
              "}\n",
              "\n",
              "#sk-container-id-3 div.sk-container {\n",
              "  /* jupyter's `normalize.less` sets `[hidden] { display: none; }`\n",
              "     but bootstrap.min.css set `[hidden] { display: none !important; }`\n",
              "     so we also need the `!important` here to be able to override the\n",
              "     default hidden behavior on the sphinx rendered scikit-learn.org.\n",
              "     See: https://github.com/scikit-learn/scikit-learn/issues/21755 */\n",
              "  display: inline-block !important;\n",
              "  position: relative;\n",
              "}\n",
              "\n",
              "#sk-container-id-3 div.sk-text-repr-fallback {\n",
              "  display: none;\n",
              "}\n",
              "\n",
              "div.sk-parallel-item,\n",
              "div.sk-serial,\n",
              "div.sk-item {\n",
              "  /* draw centered vertical line to link estimators */\n",
              "  background-image: linear-gradient(var(--sklearn-color-text-on-default-background), var(--sklearn-color-text-on-default-background));\n",
              "  background-size: 2px 100%;\n",
              "  background-repeat: no-repeat;\n",
              "  background-position: center center;\n",
              "}\n",
              "\n",
              "/* Parallel-specific style estimator block */\n",
              "\n",
              "#sk-container-id-3 div.sk-parallel-item::after {\n",
              "  content: \"\";\n",
              "  width: 100%;\n",
              "  border-bottom: 2px solid var(--sklearn-color-text-on-default-background);\n",
              "  flex-grow: 1;\n",
              "}\n",
              "\n",
              "#sk-container-id-3 div.sk-parallel {\n",
              "  display: flex;\n",
              "  align-items: stretch;\n",
              "  justify-content: center;\n",
              "  background-color: var(--sklearn-color-background);\n",
              "  position: relative;\n",
              "}\n",
              "\n",
              "#sk-container-id-3 div.sk-parallel-item {\n",
              "  display: flex;\n",
              "  flex-direction: column;\n",
              "}\n",
              "\n",
              "#sk-container-id-3 div.sk-parallel-item:first-child::after {\n",
              "  align-self: flex-end;\n",
              "  width: 50%;\n",
              "}\n",
              "\n",
              "#sk-container-id-3 div.sk-parallel-item:last-child::after {\n",
              "  align-self: flex-start;\n",
              "  width: 50%;\n",
              "}\n",
              "\n",
              "#sk-container-id-3 div.sk-parallel-item:only-child::after {\n",
              "  width: 0;\n",
              "}\n",
              "\n",
              "/* Serial-specific style estimator block */\n",
              "\n",
              "#sk-container-id-3 div.sk-serial {\n",
              "  display: flex;\n",
              "  flex-direction: column;\n",
              "  align-items: center;\n",
              "  background-color: var(--sklearn-color-background);\n",
              "  padding-right: 1em;\n",
              "  padding-left: 1em;\n",
              "}\n",
              "\n",
              "\n",
              "/* Toggleable style: style used for estimator/Pipeline/ColumnTransformer box that is\n",
              "clickable and can be expanded/collapsed.\n",
              "- Pipeline and ColumnTransformer use this feature and define the default style\n",
              "- Estimators will overwrite some part of the style using the `sk-estimator` class\n",
              "*/\n",
              "\n",
              "/* Pipeline and ColumnTransformer style (default) */\n",
              "\n",
              "#sk-container-id-3 div.sk-toggleable {\n",
              "  /* Default theme specific background. It is overwritten whether we have a\n",
              "  specific estimator or a Pipeline/ColumnTransformer */\n",
              "  background-color: var(--sklearn-color-background);\n",
              "}\n",
              "\n",
              "/* Toggleable label */\n",
              "#sk-container-id-3 label.sk-toggleable__label {\n",
              "  cursor: pointer;\n",
              "  display: flex;\n",
              "  width: 100%;\n",
              "  margin-bottom: 0;\n",
              "  padding: 0.5em;\n",
              "  box-sizing: border-box;\n",
              "  text-align: center;\n",
              "  align-items: start;\n",
              "  justify-content: space-between;\n",
              "  gap: 0.5em;\n",
              "}\n",
              "\n",
              "#sk-container-id-3 label.sk-toggleable__label .caption {\n",
              "  font-size: 0.6rem;\n",
              "  font-weight: lighter;\n",
              "  color: var(--sklearn-color-text-muted);\n",
              "}\n",
              "\n",
              "#sk-container-id-3 label.sk-toggleable__label-arrow:before {\n",
              "  /* Arrow on the left of the label */\n",
              "  content: \"▸\";\n",
              "  float: left;\n",
              "  margin-right: 0.25em;\n",
              "  color: var(--sklearn-color-icon);\n",
              "}\n",
              "\n",
              "#sk-container-id-3 label.sk-toggleable__label-arrow:hover:before {\n",
              "  color: var(--sklearn-color-text);\n",
              "}\n",
              "\n",
              "/* Toggleable content - dropdown */\n",
              "\n",
              "#sk-container-id-3 div.sk-toggleable__content {\n",
              "  max-height: 0;\n",
              "  max-width: 0;\n",
              "  overflow: hidden;\n",
              "  text-align: left;\n",
              "  /* unfitted */\n",
              "  background-color: var(--sklearn-color-unfitted-level-0);\n",
              "}\n",
              "\n",
              "#sk-container-id-3 div.sk-toggleable__content.fitted {\n",
              "  /* fitted */\n",
              "  background-color: var(--sklearn-color-fitted-level-0);\n",
              "}\n",
              "\n",
              "#sk-container-id-3 div.sk-toggleable__content pre {\n",
              "  margin: 0.2em;\n",
              "  border-radius: 0.25em;\n",
              "  color: var(--sklearn-color-text);\n",
              "  /* unfitted */\n",
              "  background-color: var(--sklearn-color-unfitted-level-0);\n",
              "}\n",
              "\n",
              "#sk-container-id-3 div.sk-toggleable__content.fitted pre {\n",
              "  /* unfitted */\n",
              "  background-color: var(--sklearn-color-fitted-level-0);\n",
              "}\n",
              "\n",
              "#sk-container-id-3 input.sk-toggleable__control:checked~div.sk-toggleable__content {\n",
              "  /* Expand drop-down */\n",
              "  max-height: 200px;\n",
              "  max-width: 100%;\n",
              "  overflow: auto;\n",
              "}\n",
              "\n",
              "#sk-container-id-3 input.sk-toggleable__control:checked~label.sk-toggleable__label-arrow:before {\n",
              "  content: \"▾\";\n",
              "}\n",
              "\n",
              "/* Pipeline/ColumnTransformer-specific style */\n",
              "\n",
              "#sk-container-id-3 div.sk-label input.sk-toggleable__control:checked~label.sk-toggleable__label {\n",
              "  color: var(--sklearn-color-text);\n",
              "  background-color: var(--sklearn-color-unfitted-level-2);\n",
              "}\n",
              "\n",
              "#sk-container-id-3 div.sk-label.fitted input.sk-toggleable__control:checked~label.sk-toggleable__label {\n",
              "  background-color: var(--sklearn-color-fitted-level-2);\n",
              "}\n",
              "\n",
              "/* Estimator-specific style */\n",
              "\n",
              "/* Colorize estimator box */\n",
              "#sk-container-id-3 div.sk-estimator input.sk-toggleable__control:checked~label.sk-toggleable__label {\n",
              "  /* unfitted */\n",
              "  background-color: var(--sklearn-color-unfitted-level-2);\n",
              "}\n",
              "\n",
              "#sk-container-id-3 div.sk-estimator.fitted input.sk-toggleable__control:checked~label.sk-toggleable__label {\n",
              "  /* fitted */\n",
              "  background-color: var(--sklearn-color-fitted-level-2);\n",
              "}\n",
              "\n",
              "#sk-container-id-3 div.sk-label label.sk-toggleable__label,\n",
              "#sk-container-id-3 div.sk-label label {\n",
              "  /* The background is the default theme color */\n",
              "  color: var(--sklearn-color-text-on-default-background);\n",
              "}\n",
              "\n",
              "/* On hover, darken the color of the background */\n",
              "#sk-container-id-3 div.sk-label:hover label.sk-toggleable__label {\n",
              "  color: var(--sklearn-color-text);\n",
              "  background-color: var(--sklearn-color-unfitted-level-2);\n",
              "}\n",
              "\n",
              "/* Label box, darken color on hover, fitted */\n",
              "#sk-container-id-3 div.sk-label.fitted:hover label.sk-toggleable__label.fitted {\n",
              "  color: var(--sklearn-color-text);\n",
              "  background-color: var(--sklearn-color-fitted-level-2);\n",
              "}\n",
              "\n",
              "/* Estimator label */\n",
              "\n",
              "#sk-container-id-3 div.sk-label label {\n",
              "  font-family: monospace;\n",
              "  font-weight: bold;\n",
              "  display: inline-block;\n",
              "  line-height: 1.2em;\n",
              "}\n",
              "\n",
              "#sk-container-id-3 div.sk-label-container {\n",
              "  text-align: center;\n",
              "}\n",
              "\n",
              "/* Estimator-specific */\n",
              "#sk-container-id-3 div.sk-estimator {\n",
              "  font-family: monospace;\n",
              "  border: 1px dotted var(--sklearn-color-border-box);\n",
              "  border-radius: 0.25em;\n",
              "  box-sizing: border-box;\n",
              "  margin-bottom: 0.5em;\n",
              "  /* unfitted */\n",
              "  background-color: var(--sklearn-color-unfitted-level-0);\n",
              "}\n",
              "\n",
              "#sk-container-id-3 div.sk-estimator.fitted {\n",
              "  /* fitted */\n",
              "  background-color: var(--sklearn-color-fitted-level-0);\n",
              "}\n",
              "\n",
              "/* on hover */\n",
              "#sk-container-id-3 div.sk-estimator:hover {\n",
              "  /* unfitted */\n",
              "  background-color: var(--sklearn-color-unfitted-level-2);\n",
              "}\n",
              "\n",
              "#sk-container-id-3 div.sk-estimator.fitted:hover {\n",
              "  /* fitted */\n",
              "  background-color: var(--sklearn-color-fitted-level-2);\n",
              "}\n",
              "\n",
              "/* Specification for estimator info (e.g. \"i\" and \"?\") */\n",
              "\n",
              "/* Common style for \"i\" and \"?\" */\n",
              "\n",
              ".sk-estimator-doc-link,\n",
              "a:link.sk-estimator-doc-link,\n",
              "a:visited.sk-estimator-doc-link {\n",
              "  float: right;\n",
              "  font-size: smaller;\n",
              "  line-height: 1em;\n",
              "  font-family: monospace;\n",
              "  background-color: var(--sklearn-color-background);\n",
              "  border-radius: 1em;\n",
              "  height: 1em;\n",
              "  width: 1em;\n",
              "  text-decoration: none !important;\n",
              "  margin-left: 0.5em;\n",
              "  text-align: center;\n",
              "  /* unfitted */\n",
              "  border: var(--sklearn-color-unfitted-level-1) 1pt solid;\n",
              "  color: var(--sklearn-color-unfitted-level-1);\n",
              "}\n",
              "\n",
              ".sk-estimator-doc-link.fitted,\n",
              "a:link.sk-estimator-doc-link.fitted,\n",
              "a:visited.sk-estimator-doc-link.fitted {\n",
              "  /* fitted */\n",
              "  border: var(--sklearn-color-fitted-level-1) 1pt solid;\n",
              "  color: var(--sklearn-color-fitted-level-1);\n",
              "}\n",
              "\n",
              "/* On hover */\n",
              "div.sk-estimator:hover .sk-estimator-doc-link:hover,\n",
              ".sk-estimator-doc-link:hover,\n",
              "div.sk-label-container:hover .sk-estimator-doc-link:hover,\n",
              ".sk-estimator-doc-link:hover {\n",
              "  /* unfitted */\n",
              "  background-color: var(--sklearn-color-unfitted-level-3);\n",
              "  color: var(--sklearn-color-background);\n",
              "  text-decoration: none;\n",
              "}\n",
              "\n",
              "div.sk-estimator.fitted:hover .sk-estimator-doc-link.fitted:hover,\n",
              ".sk-estimator-doc-link.fitted:hover,\n",
              "div.sk-label-container:hover .sk-estimator-doc-link.fitted:hover,\n",
              ".sk-estimator-doc-link.fitted:hover {\n",
              "  /* fitted */\n",
              "  background-color: var(--sklearn-color-fitted-level-3);\n",
              "  color: var(--sklearn-color-background);\n",
              "  text-decoration: none;\n",
              "}\n",
              "\n",
              "/* Span, style for the box shown on hovering the info icon */\n",
              ".sk-estimator-doc-link span {\n",
              "  display: none;\n",
              "  z-index: 9999;\n",
              "  position: relative;\n",
              "  font-weight: normal;\n",
              "  right: .2ex;\n",
              "  padding: .5ex;\n",
              "  margin: .5ex;\n",
              "  width: min-content;\n",
              "  min-width: 20ex;\n",
              "  max-width: 50ex;\n",
              "  color: var(--sklearn-color-text);\n",
              "  box-shadow: 2pt 2pt 4pt #999;\n",
              "  /* unfitted */\n",
              "  background: var(--sklearn-color-unfitted-level-0);\n",
              "  border: .5pt solid var(--sklearn-color-unfitted-level-3);\n",
              "}\n",
              "\n",
              ".sk-estimator-doc-link.fitted span {\n",
              "  /* fitted */\n",
              "  background: var(--sklearn-color-fitted-level-0);\n",
              "  border: var(--sklearn-color-fitted-level-3);\n",
              "}\n",
              "\n",
              ".sk-estimator-doc-link:hover span {\n",
              "  display: block;\n",
              "}\n",
              "\n",
              "/* \"?\"-specific style due to the `<a>` HTML tag */\n",
              "\n",
              "#sk-container-id-3 a.estimator_doc_link {\n",
              "  float: right;\n",
              "  font-size: 1rem;\n",
              "  line-height: 1em;\n",
              "  font-family: monospace;\n",
              "  background-color: var(--sklearn-color-background);\n",
              "  border-radius: 1rem;\n",
              "  height: 1rem;\n",
              "  width: 1rem;\n",
              "  text-decoration: none;\n",
              "  /* unfitted */\n",
              "  color: var(--sklearn-color-unfitted-level-1);\n",
              "  border: var(--sklearn-color-unfitted-level-1) 1pt solid;\n",
              "}\n",
              "\n",
              "#sk-container-id-3 a.estimator_doc_link.fitted {\n",
              "  /* fitted */\n",
              "  border: var(--sklearn-color-fitted-level-1) 1pt solid;\n",
              "  color: var(--sklearn-color-fitted-level-1);\n",
              "}\n",
              "\n",
              "/* On hover */\n",
              "#sk-container-id-3 a.estimator_doc_link:hover {\n",
              "  /* unfitted */\n",
              "  background-color: var(--sklearn-color-unfitted-level-3);\n",
              "  color: var(--sklearn-color-background);\n",
              "  text-decoration: none;\n",
              "}\n",
              "\n",
              "#sk-container-id-3 a.estimator_doc_link.fitted:hover {\n",
              "  /* fitted */\n",
              "  background-color: var(--sklearn-color-fitted-level-3);\n",
              "}\n",
              "</style><div id=\"sk-container-id-3\" class=\"sk-top-container\"><div class=\"sk-text-repr-fallback\"><pre>RandomForestClassifier(class_weight=&#x27;balanced_subsample&#x27;, max_depth=20,\n",
              "                       max_samples=0.6, n_estimators=400, n_jobs=-1,\n",
              "                       random_state=42)</pre><b>In a Jupyter environment, please rerun this cell to show the HTML representation or trust the notebook. <br />On GitHub, the HTML representation is unable to render, please try loading this page with nbviewer.org.</b></div><div class=\"sk-container\" hidden><div class=\"sk-item\"><div class=\"sk-estimator fitted sk-toggleable\"><input class=\"sk-toggleable__control sk-hidden--visually\" id=\"sk-estimator-id-3\" type=\"checkbox\" checked><label for=\"sk-estimator-id-3\" class=\"sk-toggleable__label fitted sk-toggleable__label-arrow\"><div><div>RandomForestClassifier</div></div><div><a class=\"sk-estimator-doc-link fitted\" rel=\"noreferrer\" target=\"_blank\" href=\"https://scikit-learn.org/1.6/modules/generated/sklearn.ensemble.RandomForestClassifier.html\">?<span>Documentation for RandomForestClassifier</span></a><span class=\"sk-estimator-doc-link fitted\">i<span>Fitted</span></span></div></label><div class=\"sk-toggleable__content fitted\"><pre>RandomForestClassifier(class_weight=&#x27;balanced_subsample&#x27;, max_depth=20,\n",
              "                       max_samples=0.6, n_estimators=400, n_jobs=-1,\n",
              "                       random_state=42)</pre></div> </div></div></div></div>"
            ]
          },
          "metadata": {},
          "execution_count": 54
        }
      ]
    },
    {
      "cell_type": "code",
      "source": [
        "# 7) Prepare test data\n",
        "test_df = pd.read_csv(TEST_PATH)\n",
        "id_col = \"name\" if \"name\" in test_df.columns else None\n",
        "\n",
        "X_test_raw = test_df.drop(columns=[c for c in [\"name\", \"class\"] if c in test_df.columns], errors=\"ignore\")\n",
        "\n",
        "# Align directly to the selected features\n",
        "X_test_selected = align_to_train_columns(X_test_raw, selected_feature_names)\n",
        "X_test_selected = X_test_selected.apply(pd.to_numeric, errors=\"coerce\").fillna(0.0)\n",
        "# Same columns/order as training-selected features\n",
        "assert list(X_all.columns) == list(selected_feature_names)\n",
        "assert list(X_test_selected.columns) == list(selected_feature_names)"
      ],
      "metadata": {
        "id": "WmFonSGOv3Ml"
      },
      "execution_count": 55,
      "outputs": []
    },
    {
      "cell_type": "code",
      "source": [
        "# 8) Predict test set\n",
        "test_prob = rf_full.predict_proba(X_test_selected)[:, 1]\n",
        "test_pred = (test_prob >= best_thr).astype(int)"
      ],
      "metadata": {
        "id": "X5FNAYQev7kc"
      },
      "execution_count": 56,
      "outputs": []
    },
    {
      "cell_type": "code",
      "source": [
        "# 9) Save predictions\n",
        "id_values = test_df[id_col] if id_col else np.arange(len(test_df))\n",
        "id_header = id_col if id_col else \"row_id\"\n",
        "\n",
        "out = pd.DataFrame({\n",
        "    id_header: id_values,\n",
        "    \"pred\": test_pred,\n",
        "    \"prob\": test_prob,\n",
        "    \"used_threshold\": best_thr\n",
        "})\n",
        "out.to_csv(OUTPUT_CSV, index=False)\n",
        "print(\"\\nPredictions exported as:\", OUTPUT_CSV)"
      ],
      "metadata": {
        "colab": {
          "base_uri": "https://localhost:8080/"
        },
        "id": "bPS5pivQv83E",
        "outputId": "f6a78140-7316-49f8-fc3a-3611010160dc"
      },
      "execution_count": 57,
      "outputs": [
        {
          "output_type": "stream",
          "name": "stdout",
          "text": [
            "\n",
            "Predictions exported as: rf_predictions.csv\n"
          ]
        }
      ]
    },
    {
      "cell_type": "code",
      "source": [
        "val_pred = (val_prob >= best_thr).astype(int)\n",
        "mcc_val = matthews_corrcoef(y_val, val_pred)\n",
        "cm = confusion_matrix(y_val, val_pred, labels=[0, 1])\n",
        "tn, fp, fn, tp = cm.ravel()\n",
        "\n",
        "acc  = (tp + tn) / max(1, (tp + tn + fp + fn))   # accuracy\n",
        "sens = tp / max(1, (tp + fn))                    # sensitivity\n",
        "spec = tn / max(1, (tn + fp))                    # specificity\n",
        "prec = tp / max(1, (tp + fp))                    # precision\n",
        "rocA = roc_auc_score(y_val, val_prob)\n",
        "\n",
        "print(\"\\n==== Validation Results ====\")\n",
        "print(f\"Best threshold: {best_thr:.2f}\")\n",
        "print(\n",
        "    f\"ACC={acc:.5f}  SEN={sens:.5f}  SPEC={spec:.5f}  \"\n",
        "    f\"PREC={prec:.5f}  MCC={best_mcc:.5f} (chk {mcc_val:.5f})  ROC-AUC={rocA:.5f}\"\n",
        ")\n",
        "print(\"Confusion matrix [[TN FP],[FN TP]]:\\n\", cm)\n",
        "\n",
        "print(\"\\nValidation probability range:\",\n",
        "      float(val_prob.min()), \"→\", float(val_prob.max()),\n",
        "      \"| median =\", float(np.median(val_prob)))\n",
        "print(\"Unique predictions (label: count):\",\n",
        "      dict(zip(*np.unique(val_pred, return_counts=True))))\n"
      ],
      "metadata": {
        "colab": {
          "base_uri": "https://localhost:8080/"
        },
        "id": "70BAaRgawEsx",
        "outputId": "a0f9f0f1-aadb-41b2-ffba-bbd4de736a7c"
      },
      "execution_count": 58,
      "outputs": [
        {
          "output_type": "stream",
          "name": "stdout",
          "text": [
            "\n",
            "==== Validation Results ====\n",
            "Best threshold: 0.31\n",
            "ACC=0.98321  SEN=0.99704  SPEC=0.97561  PREC=0.95735  MCC=0.96413 (chk 0.96413)  ROC-AUC=0.99903\n",
            "Confusion matrix [[TN FP],[FN TP]]:\n",
            " [[1800   45]\n",
            " [   3 1010]]\n",
            "\n",
            "Validation probability range: 0.0 → 1.0 | median = 0.015\n",
            "Unique predictions (label: count): {np.int64(0): np.int64(1803), np.int64(1): np.int64(1055)}\n"
          ]
        }
      ]
    },
    {
      "cell_type": "code",
      "source": [
        "# 11) Prediction Summary\n",
        "\n",
        "# --- Probability Distribution ---\n",
        "print(f\"Probability range: {test_prob.min():.4f} → {test_prob.max():.4f}\")\n",
        "print(f\"Median probability: {np.median(test_prob):.4f}\")\n",
        "print(f\"Mean probability:   {np.mean(test_prob):.4f}\")\n",
        "print(f\"Std deviation:      {np.std(test_prob):.4f}\")\n",
        "\n",
        "# --- Prediction ---\n",
        "unique_labels, counts = np.unique(test_pred, return_counts=True)\n",
        "total = counts.sum()\n",
        "for label, count in zip(unique_labels, counts):\n",
        "    percent = 100 * count / total\n",
        "    label_name = \"mRNA (1)\" if label == 1 else \"non-mRNA (0)\"\n",
        "    print(f\"{label_name:<12}: {count:6d} ({percent:5.2f}%)\")\n",
        "\n",
        "# --- Threshold ---\n",
        "print(f\"\\nDecision threshold used: {best_thr:.4f}\")\n",
        "print(f\"Total predictions: {len(test_pred)}\")\n"
      ],
      "metadata": {
        "colab": {
          "base_uri": "https://localhost:8080/"
        },
        "id": "SGyE5INAwha-",
        "outputId": "bfa2d722-e7f4-41d7-ccb7-0084b8fc2355"
      },
      "execution_count": 59,
      "outputs": [
        {
          "output_type": "stream",
          "name": "stdout",
          "text": [
            "Probability range: 0.0000 → 1.0000\n",
            "Median probability: 0.5275\n",
            "Mean probability:   0.5008\n",
            "Std deviation:      0.4678\n",
            "non-mRNA (0):   2199 (49.80%)\n",
            "mRNA (1)    :   2217 (50.20%)\n",
            "\n",
            "Decision threshold used: 0.3130\n",
            "Total predictions: 4416\n"
          ]
        }
      ]
    },
    {
      "cell_type": "code",
      "source": [
        "import matplotlib.pyplot as plt\n",
        "from sklearn.metrics import roc_curve, auc, precision_recall_curve"
      ],
      "metadata": {
        "id": "AGNZmuP3bjqS"
      },
      "execution_count": 60,
      "outputs": []
    },
    {
      "cell_type": "code",
      "source": [
        "# --- Confusion matrix heatmap ---\n",
        "fig = plt.figure(figsize=(5.2, 4.6))\n",
        "ax = plt.gca()\n",
        "im = ax.imshow(cm, interpolation=\"nearest\", cmap=\"viridis\")\n",
        "ax.set_title(\"Confusion Matrix (validation @ MCC-optimal)\")\n",
        "ax.set_xlabel(\"Predicted\")\n",
        "ax.set_ylabel(\"Actual\")\n",
        "ax.set_xticks([0, 1])\n",
        "ax.set_yticks([0, 1])\n",
        "ax.set_xticklabels([\"False\", \"True\"])\n",
        "ax.set_yticklabels([\"False\", \"True\"])\n",
        "norm = plt.Normalize(vmin=im.get_array().min(), vmax=im.get_array().max())\n",
        "for i in range(cm.shape[0]):\n",
        "    for j in range(cm.shape[1]):\n",
        "        val = cm[i, j]\n",
        "        color = \"white\" if norm(val) < 0.5 else \"black\"\n",
        "        ax.text(j, i, f\"{val}\", va=\"center\", ha=\"center\",\n",
        "                fontsize=12, fontweight=\"bold\", color=color)\n",
        "cbar = fig.colorbar(im, ax=ax, fraction=0.046, pad=0.04)\n",
        "cbar.ax.tick_params(labelsize=10)\n",
        "fig.tight_layout()\n",
        "plt.show()"
      ],
      "metadata": {
        "colab": {
          "base_uri": "https://localhost:8080/",
          "height": 464
        },
        "id": "1lax-J9BNFaM",
        "outputId": "be8d1f63-5949-4579-a02f-b2df59a489ac",
        "collapsed": true
      },
      "execution_count": 61,
      "outputs": [
        {
          "output_type": "display_data",
          "data": {
            "text/plain": [
              "<Figure size 520x460 with 2 Axes>"
            ],
            "image/png": "[encoded data removed]"
          },
          "metadata": {}
        }
      ]
    },
    {
      "cell_type": "code",
      "source": [
        "# === ROC curve ===\n",
        "fpr, tpr, _ = roc_curve(y_val, val_prob)\n",
        "rocA = auc(fpr, tpr)\n",
        "plt.figure(figsize=(5.6, 4.6))\n",
        "plt.plot(fpr, tpr, linewidth=2, label=f\"ROC AUC = {rocA:.3f}\")\n",
        "plt.plot([0,1],[0,1], \"--\", linewidth=1)\n",
        "plt.title(\"ROC Curve (validation)\")\n",
        "plt.xlabel(\"False Positive Rate\")\n",
        "plt.ylabel(\"True Positive Rate\")\n",
        "plt.legend(loc=\"lower right\", frameon=False)\n",
        "plt.tight_layout()\n",
        "plt.show()"
      ],
      "metadata": {
        "colab": {
          "base_uri": "https://localhost:8080/",
          "height": 466
        },
        "id": "vcbBtZibwMC3",
        "outputId": "0f103f6b-e1ba-4368-86f1-b3c0457a7fcf"
      },
      "execution_count": 62,
      "outputs": [
        {
          "output_type": "display_data",
          "data": {
            "text/plain": [
              "<Figure size 560x460 with 1 Axes>"
            ],
            "image/png": "[encoded data removed]"
          },
          "metadata": {}
        }
      ]
    },
    {
      "cell_type": "code",
      "source": [
        "# === Precision–Recall curve ===\n",
        "prec, rec, _ = precision_recall_curve(y_val, val_prob)\n",
        "from sklearn.metrics import auc as sk_auc\n",
        "prA = sk_auc(rec, prec)\n",
        "plt.figure(figsize=(5.6, 4.6))\n",
        "plt.plot(rec, prec, linewidth=2, label=f\"PR AUC = {prA:.3f}\")\n",
        "plt.title(\"Precision–Recall (validation)\")\n",
        "plt.xlabel(\"Recall\")\n",
        "plt.ylabel(\"Precision\")\n",
        "plt.legend(loc=\"lower left\", frameon=False)\n",
        "plt.tight_layout()\n",
        "plt.show()"
      ],
      "metadata": {
        "colab": {
          "base_uri": "https://localhost:8080/",
          "height": 466
        },
        "id": "Y7ncp2frwN6w",
        "outputId": "4510289a-ef33-4f16-c83b-5c98ebe5b142"
      },
      "execution_count": 63,
      "outputs": [
        {
          "output_type": "display_data",
          "data": {
            "text/plain": [
              "<Figure size 560x460 with 1 Axes>"
            ],
            "image/png": "[encoded data removed]"
          },
          "metadata": {}
        }
      ]
    },
    {
      "cell_type": "code",
      "source": [
        "# === Feature importances ===\n",
        "import numpy as np\n",
        "imp = rf_full.feature_importances_\n",
        "idx = np.argsort(imp)[::-1][:25]\n",
        "plt.figure(figsize=(8, 0.32*len(idx)+3))\n",
        "plt.barh(range(len(idx)), imp[idx][::-1])\n",
        "plt.yticks(range(len(idx)), [list(X_all.columns)[i] for i in idx][::-1])\n",
        "plt.xlabel(\"Importance\")\n",
        "plt.title(\"Random Forest Feature Importances (top 25)\")\n",
        "plt.tight_layout()\n",
        "plt.show()"
      ],
      "metadata": {
        "colab": {
          "base_uri": "https://localhost:8080/",
          "height": 1000
        },
        "id": "dJnJkGBkwQDt",
        "outputId": "e1c7361d-f4a6-4ad0-f91b-195555a8bf79"
      },
      "execution_count": 64,
      "outputs": [
        {
          "output_type": "display_data",
          "data": {
            "text/plain": [
              "<Figure size 800x1100 with 1 Axes>"
            ],
            "image/png": "[encoded data removed]"
          },
          "metadata": {}
        }
      ]
    },
    {
      "cell_type": "code",
      "source": [
        "# --- Sanity on test probabilities ---\n",
        "print(\"Probability Stats:\", float(test_prob.min()), float(test_prob.max()), float(np.median(test_prob)))\n",
        "\n",
        "used_threshold = float(best_thr)\n",
        "test_pred = (test_prob >= used_threshold).astype(np.int8)\n",
        "\n",
        "print(out.dtypes)\n",
        "print(out.head())"
      ],
      "metadata": {
        "id": "n3hvPKhYdkUh",
        "outputId": "eb7d986c-25c3-4f0c-e946-d42b4b63cc62",
        "colab": {
          "base_uri": "https://localhost:8080/"
        }
      },
      "execution_count": 65,
      "outputs": [
        {
          "output_type": "stream",
          "name": "stdout",
          "text": [
            "Probability Stats: 0.0 1.0 0.5275000000000001\n",
            "name               object\n",
            "pred                int64\n",
            "prob              float64\n",
            "used_threshold    float64\n",
            "dtype: object\n",
            "             name  pred      prob  used_threshold\n",
            "0  TCONS_00059596     1  0.985000           0.313\n",
            "1  TCONS_00059678     1  0.995000           0.313\n",
            "2  TCONS_00059721     1  0.999994           0.313\n",
            "3  TCONS_00059758     1  0.992500           0.313\n",
            "4  TCONS_00060154     1  0.980000           0.313\n"
          ]
        }
      ]
    },
    {
      "cell_type": "code",
      "source": [
        "print(\"Probability Stats:\", test_prob.min(), test_prob.max(), np.median(test_prob))\n",
        "print(\"Unique Predictionss:\", np.unique(test_pred, return_counts=True))"
      ],
      "metadata": {
        "colab": {
          "base_uri": "https://localhost:8080/"
        },
        "id": "pgZiCEnEcqBy",
        "outputId": "8d60729f-62a8-4a1e-cd50-bc47ed8ae77c"
      },
      "execution_count": 66,
      "outputs": [
        {
          "output_type": "stream",
          "name": "stdout",
          "text": [
            "Probability Stats: 0.0 1.0 0.5275000000000001\n",
            "Unique Predictionss: (array([0, 1], dtype=int8), array([2199, 2217]))\n"
          ]
        }
      ]
    },
    {
      "cell_type": "code",
      "source": [
        "import joblib\n",
        "\n",
        "# Save the trained model to a file\n",
        "joblib.dump(rf_full, \"random_forest_model.pkl\")"
      ],
      "metadata": {
        "colab": {
          "base_uri": "https://localhost:8080/"
        },
        "id": "h1JyT5VW0pcs",
        "outputId": "65013367-207c-40d6-a02c-10d4403ef2ac"
      },
      "execution_count": 67,
      "outputs": [
        {
          "output_type": "execute_result",
          "data": {
            "text/plain": [
              "['random_forest_model.pkl']"
            ]
          },
          "metadata": {},
          "execution_count": 67
        }
      ]
    },
    {
      "cell_type": "code",
      "source": [
        "from google.colab import files\n",
        "\n",
        "# Download the saved model\n",
        "files.download(\"random_forest_model.pkl\")"
      ],
      "metadata": {
        "colab": {
          "base_uri": "https://localhost:8080/",
          "height": 17
        },
        "id": "1KIl4J8r0qWo",
        "outputId": "2fd985a9-bdef-42da-a428-deb1b3ba4f7f"
      },
      "execution_count": 68,
      "outputs": [
        {
          "output_type": "display_data",
          "data": {
            "text/plain": [
              "<IPython.core.display.Javascript object>"
            ],
            "application/javascript": [
              "\n",
              "    async function download(id, filename, size) {\n",
              "      if (!google.colab.kernel.accessAllowed) {\n",
              "        return;\n",
              "      }\n",
              "      const div = document.createElement('div');\n",
              "      const label = document.createElement('label');\n",
              "      label.textContent = `Downloading \"${filename}\": `;\n",
              "      div.appendChild(label);\n",
              "      const progress = document.createElement('progress');\n",
              "      progress.max = size;\n",
              "      div.appendChild(progress);\n",
              "      document.body.appendChild(div);\n",
              "\n",
              "      const buffers = [];\n",
              "      let downloaded = 0;\n",
              "\n",
              "      const channel = await google.colab.kernel.comms.open(id);\n",
              "      // Send a message to notify the kernel that we're ready.\n",
              "      channel.send({})\n",
              "\n",
              "      for await (const message of channel.messages) {\n",
              "        // Send a message to notify the kernel that we're ready.\n",
              "        channel.send({})\n",
              "        if (message.buffers) {\n",
              "          for (const buffer of message.buffers) {\n",
              "            buffers.push(buffer);\n",
              "            downloaded += buffer.byteLength;\n",
              "            progress.value = downloaded;\n",
              "          }\n",
              "        }\n",
              "      }\n",
              "      const blob = new Blob(buffers, {type: 'application/binary'});\n",
              "      const a = document.createElement('a');\n",
              "      a.href = window.URL.createObjectURL(blob);\n",
              "      a.download = filename;\n",
              "      div.appendChild(a);\n",
              "      a.click();\n",
              "      div.remove();\n",
              "    }\n",
              "  "
            ]
          },
          "metadata": {}
        },
        {
          "output_type": "display_data",
          "data": {
            "text/plain": [
              "<IPython.core.display.Javascript object>"
            ],
            "application/javascript": [
              "download(\"download_e0bd82da-a3e2-459e-850b-e9c15dd97c5b\", \"random_forest_model.pkl\", 13605801)"
            ]
          },
          "metadata": {}
        }
      ]
    }
  ]
}