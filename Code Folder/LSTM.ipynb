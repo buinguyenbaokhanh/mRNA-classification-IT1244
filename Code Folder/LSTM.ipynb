{
  "nbformat": 4,
  "nbformat_minor": 0,
  "metadata": {
    "colab": {
      "provenance": []
    },
    "kernelspec": {
      "name": "python3",
      "display_name": "Python 3"
    },
    "language_info": {
      "name": "python"
    }
  },
  "cells": [
    {
      "cell_type": "code",
      "execution_count": 1,
      "metadata": {
        "id": "KNFzXkO3MucH",
        "colab": {
          "base_uri": "https://localhost:8080/",
          "height": 212
        },
        "outputId": "230e97fe-19f5-48a1-ec85-e9e2e7ecd5b7"
      },
      "outputs": [
        {
          "output_type": "display_data",
          "data": {
            "text/plain": [
              "<IPython.core.display.HTML object>"
            ],
            "text/html": [
              "\n",
              "     <input type=\"file\" id=\"files-8ed1d19e-091f-4ebf-88b9-5f2b6066890e\" name=\"files[]\" multiple disabled\n",
              "        style=\"border:none\" />\n",
              "     <output id=\"result-8ed1d19e-091f-4ebf-88b9-5f2b6066890e\">\n",
              "      Upload widget is only available when the cell has been executed in the\n",
              "      current browser session. Please rerun this cell to enable.\n",
              "      </output>\n",
              "      <script>// Copyright 2017 Google LLC\n",
              "//\n",
              "// Licensed under the Apache License, Version 2.0 (the \"License\");\n",
              "// you may not use this file except in compliance with the License.\n",
              "// You may obtain a copy of the License at\n",
              "//\n",
              "//      http://www.apache.org/licenses/LICENSE-2.0\n",
              "//\n",
              "// Unless required by applicable law or agreed to in writing, software\n",
              "// distributed under the License is distributed on an \"AS IS\" BASIS,\n",
              "// WITHOUT WARRANTIES OR CONDITIONS OF ANY KIND, either express or implied.\n",
              "// See the License for the specific language governing permissions and\n",
              "// limitations under the License.\n",
              "\n",
              "/**\n",
              " * @fileoverview Helpers for google.colab Python module.\n",
              " */\n",
              "(function(scope) {\n",
              "function span(text, styleAttributes = {}) {\n",
              "  const element = document.createElement('span');\n",
              "  element.textContent = text;\n",
              "  for (const key of Object.keys(styleAttributes)) {\n",
              "    element.style[key] = styleAttributes[key];\n",
              "  }\n",
              "  return element;\n",
              "}\n",
              "\n",
              "// Max number of bytes which will be uploaded at a time.\n",
              "const MAX_PAYLOAD_SIZE = 100 * 1024;\n",
              "\n",
              "function _uploadFiles(inputId, outputId) {\n",
              "  const steps = uploadFilesStep(inputId, outputId);\n",
              "  const outputElement = document.getElementById(outputId);\n",
              "  // Cache steps on the outputElement to make it available for the next call\n",
              "  // to uploadFilesContinue from Python.\n",
              "  outputElement.steps = steps;\n",
              "\n",
              "  return _uploadFilesContinue(outputId);\n",
              "}\n",
              "\n",
              "// This is roughly an async generator (not supported in the browser yet),\n",
              "// where there are multiple asynchronous steps and the Python side is going\n",
              "// to poll for completion of each step.\n",
              "// This uses a Promise to block the python side on completion of each step,\n",
              "// then passes the result of the previous step as the input to the next step.\n",
              "function _uploadFilesContinue(outputId) {\n",
              "  const outputElement = document.getElementById(outputId);\n",
              "  const steps = outputElement.steps;\n",
              "\n",
              "  const next = steps.next(outputElement.lastPromiseValue);\n",
              "  return Promise.resolve(next.value.promise).then((value) => {\n",
              "    // Cache the last promise value to make it available to the next\n",
              "    // step of the generator.\n",
              "    outputElement.lastPromiseValue = value;\n",
              "    return next.value.response;\n",
              "  });\n",
              "}\n",
              "\n",
              "/**\n",
              " * Generator function which is called between each async step of the upload\n",
              " * process.\n",
              " * @param {string} inputId Element ID of the input file picker element.\n",
              " * @param {string} outputId Element ID of the output display.\n",
              " * @return {!Iterable<!Object>} Iterable of next steps.\n",
              " */\n",
              "function* uploadFilesStep(inputId, outputId) {\n",
              "  const inputElement = document.getElementById(inputId);\n",
              "  inputElement.disabled = false;\n",
              "\n",
              "  const outputElement = document.getElementById(outputId);\n",
              "  outputElement.innerHTML = '';\n",
              "\n",
              "  const pickedPromise = new Promise((resolve) => {\n",
              "    inputElement.addEventListener('change', (e) => {\n",
              "      resolve(e.target.files);\n",
              "    });\n",
              "  });\n",
              "\n",
              "  const cancel = document.createElement('button');\n",
              "  inputElement.parentElement.appendChild(cancel);\n",
              "  cancel.textContent = 'Cancel upload';\n",
              "  const cancelPromise = new Promise((resolve) => {\n",
              "    cancel.onclick = () => {\n",
              "      resolve(null);\n",
              "    };\n",
              "  });\n",
              "\n",
              "  // Wait for the user to pick the files.\n",
              "  const files = yield {\n",
              "    promise: Promise.race([pickedPromise, cancelPromise]),\n",
              "    response: {\n",
              "      action: 'starting',\n",
              "    }\n",
              "  };\n",
              "\n",
              "  cancel.remove();\n",
              "\n",
              "  // Disable the input element since further picks are not allowed.\n",
              "  inputElement.disabled = true;\n",
              "\n",
              "  if (!files) {\n",
              "    return {\n",
              "      response: {\n",
              "        action: 'complete',\n",
              "      }\n",
              "    };\n",
              "  }\n",
              "\n",
              "  for (const file of files) {\n",
              "    const li = document.createElement('li');\n",
              "    li.append(span(file.name, {fontWeight: 'bold'}));\n",
              "    li.append(span(\n",
              "        `(${file.type || 'n/a'}) - ${file.size} bytes, ` +\n",
              "        `last modified: ${\n",
              "            file.lastModifiedDate ? file.lastModifiedDate.toLocaleDateString() :\n",
              "                                    'n/a'} - `));\n",
              "    const percent = span('0% done');\n",
              "    li.appendChild(percent);\n",
              "\n",
              "    outputElement.appendChild(li);\n",
              "\n",
              "    const fileDataPromise = new Promise((resolve) => {\n",
              "      const reader = new FileReader();\n",
              "      reader.onload = (e) => {\n",
              "        resolve(e.target.result);\n",
              "      };\n",
              "      reader.readAsArrayBuffer(file);\n",
              "    });\n",
              "    // Wait for the data to be ready.\n",
              "    let fileData = yield {\n",
              "      promise: fileDataPromise,\n",
              "      response: {\n",
              "        action: 'continue',\n",
              "      }\n",
              "    };\n",
              "\n",
              "    // Use a chunked sending to avoid message size limits. See b/62115660.\n",
              "    let position = 0;\n",
              "    do {\n",
              "      const length = Math.min(fileData.byteLength - position, MAX_PAYLOAD_SIZE);\n",
              "      const chunk = new Uint8Array(fileData, position, length);\n",
              "      position += length;\n",
              "\n",
              "      const base64 = btoa(String.fromCharCode.apply(null, chunk));\n",
              "      yield {\n",
              "        response: {\n",
              "          action: 'append',\n",
              "          file: file.name,\n",
              "          data: base64,\n",
              "        },\n",
              "      };\n",
              "\n",
              "      let percentDone = fileData.byteLength === 0 ?\n",
              "          100 :\n",
              "          Math.round((position / fileData.byteLength) * 100);\n",
              "      percent.textContent = `${percentDone}% done`;\n",
              "\n",
              "    } while (position < fileData.byteLength);\n",
              "  }\n",
              "\n",
              "  // All done.\n",
              "  yield {\n",
              "    response: {\n",
              "      action: 'complete',\n",
              "    }\n",
              "  };\n",
              "}\n",
              "\n",
              "scope.google = scope.google || {};\n",
              "scope.google.colab = scope.google.colab || {};\n",
              "scope.google.colab._files = {\n",
              "  _uploadFiles,\n",
              "  _uploadFilesContinue,\n",
              "};\n",
              "})(self);\n",
              "</script> "
            ]
          },
          "metadata": {}
        },
        {
          "output_type": "stream",
          "name": "stdout",
          "text": [
            "Saving training.csv to training.csv\n",
            "Saving features_test.csv to features_test.csv\n",
            "Saving features_df.csv to features_df.csv\n",
            "Saving test.csv to test.csv\n",
            "Saving training_class.csv to training_class.csv\n"
          ]
        }
      ],
      "source": [
        "from google.colab import files\n",
        "uploaded = files.upload()"
      ]
    },
    {
      "cell_type": "code",
      "source": [
        "import numpy as np\n",
        "from tensorflow.keras.models import Sequential\n",
        "from tensorflow.keras.layers import Embedding, LSTM, Dense, Input, Dropout\n",
        "from tensorflow.keras.preprocessing.sequence import pad_sequences\n",
        "\n",
        "from tensorflow.keras.optimizers import Adam, RMSprop\n",
        "from tensorflow.keras.callbacks import EarlyStopping, ReduceLROnPlateau\n",
        "from sklearn.metrics import (accuracy_score, precision_score, recall_score,\n",
        "                             f1_score, roc_auc_score, confusion_matrix,\n",
        "                             classification_report, roc_curve)\n",
        "import pandas as pd"
      ],
      "metadata": {
        "id": "2VUFdkIlKtF6"
      },
      "execution_count": 2,
      "outputs": []
    },
    {
      "cell_type": "code",
      "source": [
        "df = pd.read_csv(\"training.csv\")"
      ],
      "metadata": {
        "id": "uXr8WoooLhj_"
      },
      "execution_count": 3,
      "outputs": []
    },
    {
      "cell_type": "code",
      "source": [
        "print(df.head())"
      ],
      "metadata": {
        "colab": {
          "base_uri": "https://localhost:8080/"
        },
        "id": "A_jw9DHVMdIq",
        "outputId": "4688a94b-0248-4f4a-d527-cbd717173ce7"
      },
      "execution_count": 4,
      "outputs": [
        {
          "output_type": "stream",
          "name": "stdout",
          "text": [
            "   Unnamed: 0                name  \\\n",
            "0           0  ENSDART00000138379   \n",
            "1           1  ENSDART00000075994   \n",
            "2           2  ENSDART00000153938   \n",
            "3           3  ENSDART00000152541   \n",
            "4           4  ENSDART00000139170   \n",
            "\n",
            "                                            Sequence  class  \n",
            "0  TCAAANGGAAAATAATATGTCAGYTGTGATTTTTACTCGANTTAAT...      1  \n",
            "1  ATGTCTCTTTTTGAAATAAAAGACCTGNTTNGAGAAGGAAGCTATG...      1  \n",
            "2  AGACCAGTGGTTTAGCAGCAACAGCTTTCGAGCGACGGAAACATGC...      1  \n",
            "3  CGATGGGTCCGACCAAGATGGCGCTCTAACAACAAGCAGATCGATG...      1  \n",
            "4  TCGGACTTCTCATATGTTTTCGACTCTTCGAAGAACTAAACATTAA...      1  \n"
          ]
        }
      ]
    },
    {
      "cell_type": "code",
      "source": [
        "iupac_encoding = {\n",
        "    'A': [1, 0, 0, 0],\n",
        "    'C': [0, 1, 0, 0],\n",
        "    'G': [0, 0, 1, 0],\n",
        "    'T': [0, 0, 0, 1],\n",
        "    'U': [0, 0, 0, 1],\n",
        "    'R': [0.5, 0, 0.5, 0],\n",
        "    'Y': [0, 0.5, 0, 0.5],\n",
        "    'S': [0, 0.5, 0.5, 0],\n",
        "    'W': [0.5, 0, 0, 0.5],\n",
        "    'K': [0, 0, 0.5, 0.5],\n",
        "    'M': [0.5, 0.5, 0, 0],\n",
        "    'B': [0, 1/3, 1/3, 1/3],\n",
        "    'D': [1/3, 0, 1/3, 1/3],\n",
        "    'H': [1/3, 1/3, 0, 1/3],\n",
        "    'V': [1/3, 1/3, 1/3, 0],\n",
        "    'N': [0.25, 0.25, 0.25, 0.25],\n",
        "    '.': [0, 0, 0, 0],\n",
        "    '-': [0, 0, 0, 0]\n",
        "}"
      ],
      "metadata": {
        "id": "Or07uMkCNHKX"
      },
      "execution_count": 5,
      "outputs": []
    },
    {
      "cell_type": "code",
      "source": [
        "def encode_sequence(seq):\n",
        "    return np.array([iupac_encoding.get(base, [0, 0, 0, 0]) for base in seq], dtype='float32')"
      ],
      "metadata": {
        "id": "inKrh_NUNP0j"
      },
      "execution_count": 6,
      "outputs": []
    },
    {
      "cell_type": "code",
      "source": [
        "#encode X from letters to array of numbers\n",
        "X = [encode_sequence(seq) for seq in df['Sequence']]\n",
        "y = df['class'].values"
      ],
      "metadata": {
        "id": "TI6bC9vPNdJK"
      },
      "execution_count": 7,
      "outputs": []
    },
    {
      "cell_type": "code",
      "source": [
        "# pad to same length\n",
        "\n",
        "maxlen = 500\n",
        "\n",
        "\n",
        "X = pad_sequences(X, maxlen=maxlen, padding='post', dtype='float32')"
      ],
      "metadata": {
        "id": "FdhBqfp-NoX1"
      },
      "execution_count": 8,
      "outputs": []
    },
    {
      "cell_type": "code",
      "source": [
        "## Building LSTM model\n",
        "def create_model(lstm_units, dropout_rate, learning_rate):\n",
        "  model = Sequential([\n",
        "      Input(shape = (500, 4)),\n",
        "      LSTM(lstm_units, return_sequences = False),\n",
        "      Dropout(dropout_rate),\n",
        "      Dense(1, activation = 'sigmoid')\n",
        "  ])\n",
        "\n",
        "  model.compile(\n",
        "      loss = 'binary_crossentropy',\n",
        "      optimizer = 'adam',\n",
        "      metrics = ['accuracy']\n",
        "  )\n",
        "\n",
        "  return model\n"
      ],
      "metadata": {
        "id": "ME1WxWMg9OZl"
      },
      "execution_count": 9,
      "outputs": []
    },
    {
      "cell_type": "code",
      "source": [
        "## Caculate the metrics\n",
        "def calculate_metrics(y_true, y_pred_proba):\n",
        "    y_pred_binary = (y_pred_proba > 0.5).astype(int)\n",
        "\n",
        "    metrics = {\n",
        "        'accuracy': accuracy_score(y_true, y_pred_binary),\n",
        "        'precision': precision_score(y_true, y_pred_binary, zero_division=0),\n",
        "        'recall': recall_score(y_true, y_pred_binary, zero_division=0),\n",
        "        'f1_score': f1_score(y_true, y_pred_binary, zero_division=0),\n",
        "        'roc_auc': roc_auc_score(y_true, y_pred_proba),\n",
        "    }\n",
        "\n",
        "    #Confusion matrix components\n",
        "    cm = confusion_matrix(y_true, y_pred_binary)\n",
        "    tn, fp, fn, tp = cm.ravel()\n",
        "\n",
        "    metrics.update({\n",
        "        'true_positive': tp,\n",
        "        'true_negative': tn,\n",
        "        'false_positive': fp,\n",
        "        'false_negative': fn,\n",
        "        'specificity': tn / (tn + fp) if (tn + fp) > 0 else 0,\n",
        "        'sensitivity': tp / (tp + fn) if (tp + fn) > 0 else 0,\n",
        "    })\n",
        "\n",
        "    return metrics\n"
      ],
      "metadata": {
        "id": "RfEIMjf4EPFJ"
      },
      "execution_count": 10,
      "outputs": []
    },
    {
      "cell_type": "code",
      "source": [
        "# Try 4 different configurations\n",
        "configs = [\n",
        "    {'lstm_units': 32, 'dropout_rate': 0.2, 'learning_rate': 0.001,\n",
        "     'batch_size': 32, 'epochs': 10},\n",
        "\n",
        "    {'lstm_units': 64, 'dropout_rate': 0.3, 'learning_rate': 0.001,\n",
        "     'batch_size': 32, 'epochs': 10},\n",
        "\n",
        "    {'lstm_units': 128, 'dropout_rate': 0.2, 'learning_rate': 0.001,\n",
        "     'batch_size': 16, 'epochs': 15},\n",
        "\n",
        "    {'lstm_units': 64, 'dropout_rate': 0.5, 'learning_rate': 0.001,\n",
        "     'batch_size': 16, 'epochs': 10},\n",
        "]"
      ],
      "metadata": {
        "id": "3uCt7dpeFcIp"
      },
      "execution_count": 11,
      "outputs": []
    },
    {
      "cell_type": "code",
      "source": [
        "##Training model\n",
        "results = []\n",
        "\n",
        "for idx, config in enumerate(configs):\n",
        "    print(f\"\\n{'='*60}\")\n",
        "    print(f\"Model {idx + 1}/4: {config}\")\n",
        "    print(f\"{'='*60}\")\n",
        "\n",
        "    model = create_model(\n",
        "        lstm_units=config['lstm_units'],\n",
        "        dropout_rate=config['dropout_rate'],\n",
        "        learning_rate=config['learning_rate'],\n",
        "        # optimizer_name=config['optimizer']\n",
        "    )\n",
        "\n",
        "    history = model.fit(\n",
        "        X, y,\n",
        "        epochs=config['epochs'],\n",
        "        batch_size=config['batch_size'],\n",
        "        verbose=1\n",
        "    )\n",
        "\n",
        "    y_pred_proba = model.predict(X, verbose=0).flatten()\n",
        "    metrics = calculate_metrics(y, y_pred_proba)\\\n",
        "\n",
        "    result = {**config, **metrics}\n",
        "    results.append(result)\n",
        "\n",
        "    print(f\"\\nResults:\")\n",
        "    print(f\"  Accuracy:    {metrics['accuracy']:.4f}\")\n",
        "    print(f\"  Precision:   {metrics['precision']:.4f}\")\n",
        "    print(f\"  Recall:      {metrics['recall']:.4f}\")\n",
        "    print(f\"  F1 Score:    {metrics['f1_score']:.4f}\")\n",
        "    print(f\"  ROC AUC:     {metrics['roc_auc']:.4f}\")\n",
        "    print(f\"  Specificity: {metrics['specificity']:.4f}\")\n",
        "    print(f\"  TP: {metrics['true_positive']}, TN: {metrics['true_negative']}, \"\n",
        "          f\"FP: {metrics['false_positive']}, FN: {metrics['false_negative']}\")"
      ],
      "metadata": {
        "id": "kyn_goC2Oeg0",
        "colab": {
          "base_uri": "https://localhost:8080/"
        },
        "outputId": "d8e23aa2-bcc6-40c8-b574-5b0487b27d62"
      },
      "execution_count": 13,
      "outputs": [
        {
          "output_type": "stream",
          "name": "stdout",
          "text": [
            "\n",
            "============================================================\n",
            "Model 1/4: {'lstm_units': 32, 'dropout_rate': 0.2, 'learning_rate': 0.001, 'batch_size': 32, 'epochs': 10}\n",
            "============================================================\n",
            "Epoch 1/10\n",
            "\u001b[1m447/447\u001b[0m \u001b[32m━━━━━━━━━━━━━━━━━━━━\u001b[0m\u001b[37m\u001b[0m \u001b[1m88s\u001b[0m 191ms/step - accuracy: 0.6597 - loss: 0.6854\n",
            "Epoch 2/10\n",
            "\u001b[1m447/447\u001b[0m \u001b[32m━━━━━━━━━━━━━━━━━━━━\u001b[0m\u001b[37m\u001b[0m \u001b[1m78s\u001b[0m 174ms/step - accuracy: 0.6529 - loss: 0.5838\n",
            "Epoch 3/10\n",
            "\u001b[1m447/447\u001b[0m \u001b[32m━━━━━━━━━━━━━━━━━━━━\u001b[0m\u001b[37m\u001b[0m \u001b[1m78s\u001b[0m 173ms/step - accuracy: 0.6602 - loss: 0.5356\n",
            "Epoch 4/10\n",
            "\u001b[1m447/447\u001b[0m \u001b[32m━━━━━━━━━━━━━━━━━━━━\u001b[0m\u001b[37m\u001b[0m \u001b[1m77s\u001b[0m 172ms/step - accuracy: 0.6747 - loss: 0.5088\n",
            "Epoch 5/10\n",
            "\u001b[1m447/447\u001b[0m \u001b[32m━━━━━━━━━━━━━━━━━━━━\u001b[0m\u001b[37m\u001b[0m \u001b[1m75s\u001b[0m 169ms/step - accuracy: 0.6737 - loss: 0.4999\n",
            "Epoch 6/10\n",
            "\u001b[1m447/447\u001b[0m \u001b[32m━━━━━━━━━━━━━━━━━━━━\u001b[0m\u001b[37m\u001b[0m \u001b[1m80s\u001b[0m 165ms/step - accuracy: 0.6809 - loss: 0.5043\n",
            "Epoch 7/10\n",
            "\u001b[1m447/447\u001b[0m \u001b[32m━━━━━━━━━━━━━━━━━━━━\u001b[0m\u001b[37m\u001b[0m \u001b[1m84s\u001b[0m 170ms/step - accuracy: 0.6823 - loss: 0.4971\n",
            "Epoch 8/10\n",
            "\u001b[1m447/447\u001b[0m \u001b[32m━━━━━━━━━━━━━━━━━━━━\u001b[0m\u001b[37m\u001b[0m \u001b[1m74s\u001b[0m 166ms/step - accuracy: 0.6909 - loss: 0.4953\n",
            "Epoch 9/10\n",
            "\u001b[1m447/447\u001b[0m \u001b[32m━━━━━━━━━━━━━━━━━━━━\u001b[0m\u001b[37m\u001b[0m \u001b[1m76s\u001b[0m 170ms/step - accuracy: 0.6849 - loss: 0.4920\n",
            "Epoch 10/10\n",
            "\u001b[1m447/447\u001b[0m \u001b[32m━━━━━━━━━━━━━━━━━━━━\u001b[0m\u001b[37m\u001b[0m \u001b[1m81s\u001b[0m 169ms/step - accuracy: 0.6822 - loss: 0.4993\n",
            "\n",
            "Results:\n",
            "  Accuracy:    0.6865\n",
            "  Precision:   0.5393\n",
            "  Recall:      0.7910\n",
            "  F1 Score:    0.6414\n",
            "  ROC AUC:     0.7783\n",
            "  Specificity: 0.6292\n",
            "  TP: 4004, TN: 5804, FP: 3420, FN: 1058\n",
            "\n",
            "============================================================\n",
            "Model 2/4: {'lstm_units': 64, 'dropout_rate': 0.3, 'learning_rate': 0.001, 'batch_size': 32, 'epochs': 10}\n",
            "============================================================\n",
            "Epoch 1/10\n",
            "\u001b[1m447/447\u001b[0m \u001b[32m━━━━━━━━━━━━━━━━━━━━\u001b[0m\u001b[37m\u001b[0m \u001b[1m96s\u001b[0m 210ms/step - accuracy: 0.6552 - loss: 0.5640\n",
            "Epoch 2/10\n",
            "\u001b[1m447/447\u001b[0m \u001b[32m━━━━━━━━━━━━━━━━━━━━\u001b[0m\u001b[37m\u001b[0m \u001b[1m93s\u001b[0m 207ms/step - accuracy: 0.6734 - loss: 0.5060\n",
            "Epoch 3/10\n",
            "\u001b[1m447/447\u001b[0m \u001b[32m━━━━━━━━━━━━━━━━━━━━\u001b[0m\u001b[37m\u001b[0m \u001b[1m142s\u001b[0m 208ms/step - accuracy: 0.6894 - loss: 0.4951\n",
            "Epoch 4/10\n",
            "\u001b[1m447/447\u001b[0m \u001b[32m━━━━━━━━━━━━━━━━━━━━\u001b[0m\u001b[37m\u001b[0m \u001b[1m95s\u001b[0m 213ms/step - accuracy: 0.6806 - loss: 0.5027\n",
            "Epoch 5/10\n",
            "\u001b[1m447/447\u001b[0m \u001b[32m━━━━━━━━━━━━━━━━━━━━\u001b[0m\u001b[37m\u001b[0m \u001b[1m94s\u001b[0m 210ms/step - accuracy: 0.6922 - loss: 0.4951\n",
            "Epoch 6/10\n",
            "\u001b[1m447/447\u001b[0m \u001b[32m━━━━━━━━━━━━━━━━━━━━\u001b[0m\u001b[37m\u001b[0m \u001b[1m142s\u001b[0m 209ms/step - accuracy: 0.6943 - loss: 0.4896\n",
            "Epoch 7/10\n",
            "\u001b[1m447/447\u001b[0m \u001b[32m━━━━━━━━━━━━━━━━━━━━\u001b[0m\u001b[37m\u001b[0m \u001b[1m94s\u001b[0m 211ms/step - accuracy: 0.6815 - loss: 0.5496\n",
            "Epoch 8/10\n",
            "\u001b[1m447/447\u001b[0m \u001b[32m━━━━━━━━━━━━━━━━━━━━\u001b[0m\u001b[37m\u001b[0m \u001b[1m142s\u001b[0m 211ms/step - accuracy: 0.6944 - loss: 0.5174\n",
            "Epoch 9/10\n",
            "\u001b[1m447/447\u001b[0m \u001b[32m━━━━━━━━━━━━━━━━━━━━\u001b[0m\u001b[37m\u001b[0m \u001b[1m142s\u001b[0m 210ms/step - accuracy: 0.6891 - loss: 0.5067\n",
            "Epoch 10/10\n",
            "\u001b[1m447/447\u001b[0m \u001b[32m━━━━━━━━━━━━━━━━━━━━\u001b[0m\u001b[37m\u001b[0m \u001b[1m141s\u001b[0m 209ms/step - accuracy: 0.6959 - loss: 0.4963\n",
            "\n",
            "Results:\n",
            "  Accuracy:    0.7022\n",
            "  Precision:   0.5627\n",
            "  Recall:      0.7167\n",
            "  F1 Score:    0.6304\n",
            "  ROC AUC:     0.7841\n",
            "  Specificity: 0.6943\n",
            "  TP: 3628, TN: 6404, FP: 2820, FN: 1434\n",
            "\n",
            "============================================================\n",
            "Model 3/4: {'lstm_units': 128, 'dropout_rate': 0.2, 'learning_rate': 0.001, 'batch_size': 16, 'epochs': 15}\n",
            "============================================================\n",
            "Epoch 1/15\n",
            "\u001b[1m893/893\u001b[0m \u001b[32m━━━━━━━━━━━━━━━━━━━━\u001b[0m\u001b[37m\u001b[0m \u001b[1m265s\u001b[0m 293ms/step - accuracy: 0.6414 - loss: 0.6211\n",
            "Epoch 2/15\n",
            "\u001b[1m893/893\u001b[0m \u001b[32m━━━━━━━━━━━━━━━━━━━━\u001b[0m\u001b[37m\u001b[0m \u001b[1m264s\u001b[0m 296ms/step - accuracy: 0.6681 - loss: 0.5033\n",
            "Epoch 3/15\n",
            "\u001b[1m893/893\u001b[0m \u001b[32m━━━━━━━━━━━━━━━━━━━━\u001b[0m\u001b[37m\u001b[0m \u001b[1m318s\u001b[0m 292ms/step - accuracy: 0.6726 - loss: 0.5004\n",
            "Epoch 4/15\n",
            "\u001b[1m893/893\u001b[0m \u001b[32m━━━━━━━━━━━━━━━━━━━━\u001b[0m\u001b[37m\u001b[0m \u001b[1m266s\u001b[0m 296ms/step - accuracy: 0.6889 - loss: 0.4922\n",
            "Epoch 5/15\n",
            "\u001b[1m893/893\u001b[0m \u001b[32m━━━━━━━━━━━━━━━━━━━━\u001b[0m\u001b[37m\u001b[0m \u001b[1m264s\u001b[0m 296ms/step - accuracy: 0.6857 - loss: 0.5104\n",
            "Epoch 6/15\n",
            "\u001b[1m893/893\u001b[0m \u001b[32m━━━━━━━━━━━━━━━━━━━━\u001b[0m\u001b[37m\u001b[0m \u001b[1m268s\u001b[0m 300ms/step - accuracy: 0.6823 - loss: 0.5061\n",
            "Epoch 7/15\n",
            "\u001b[1m893/893\u001b[0m \u001b[32m━━━━━━━━━━━━━━━━━━━━\u001b[0m\u001b[37m\u001b[0m \u001b[1m267s\u001b[0m 299ms/step - accuracy: 0.6938 - loss: 0.4974\n",
            "Epoch 8/15\n",
            "\u001b[1m893/893\u001b[0m \u001b[32m━━━━━━━━━━━━━━━━━━━━\u001b[0m\u001b[37m\u001b[0m \u001b[1m261s\u001b[0m 292ms/step - accuracy: 0.7029 - loss: 0.4928\n",
            "Epoch 9/15\n",
            "\u001b[1m893/893\u001b[0m \u001b[32m━━━━━━━━━━━━━━━━━━━━\u001b[0m\u001b[37m\u001b[0m \u001b[1m265s\u001b[0m 297ms/step - accuracy: 0.7066 - loss: 0.4897\n",
            "Epoch 10/15\n",
            "\u001b[1m893/893\u001b[0m \u001b[32m━━━━━━━━━━━━━━━━━━━━\u001b[0m\u001b[37m\u001b[0m \u001b[1m264s\u001b[0m 295ms/step - accuracy: 0.6528 - loss: 0.5890\n",
            "Epoch 11/15\n",
            "\u001b[1m893/893\u001b[0m \u001b[32m━━━━━━━━━━━━━━━━━━━━\u001b[0m\u001b[37m\u001b[0m \u001b[1m261s\u001b[0m 292ms/step - accuracy: 0.6737 - loss: 0.5039\n",
            "Epoch 12/15\n",
            "\u001b[1m893/893\u001b[0m \u001b[32m━━━━━━━━━━━━━━━━━━━━\u001b[0m\u001b[37m\u001b[0m \u001b[1m262s\u001b[0m 293ms/step - accuracy: 0.6844 - loss: 0.4872\n",
            "Epoch 13/15\n",
            "\u001b[1m893/893\u001b[0m \u001b[32m━━━━━━━━━━━━━━━━━━━━\u001b[0m\u001b[37m\u001b[0m \u001b[1m259s\u001b[0m 290ms/step - accuracy: 0.6976 - loss: 0.4914\n",
            "Epoch 14/15\n",
            "\u001b[1m893/893\u001b[0m \u001b[32m━━━━━━━━━━━━━━━━━━━━\u001b[0m\u001b[37m\u001b[0m \u001b[1m265s\u001b[0m 296ms/step - accuracy: 0.6925 - loss: 0.4949\n",
            "Epoch 15/15\n",
            "\u001b[1m893/893\u001b[0m \u001b[32m━━━━━━━━━━━━━━━━━━━━\u001b[0m\u001b[37m\u001b[0m \u001b[1m261s\u001b[0m 292ms/step - accuracy: 0.7004 - loss: 0.4920\n",
            "\n",
            "Results:\n",
            "  Accuracy:    0.7001\n",
            "  Precision:   0.6065\n",
            "  Recall:      0.4372\n",
            "  F1 Score:    0.5081\n",
            "  ROC AUC:     0.7892\n",
            "  Specificity: 0.8443\n",
            "  TP: 2213, TN: 7788, FP: 1436, FN: 2849\n",
            "\n",
            "============================================================\n",
            "Model 4/4: {'lstm_units': 64, 'dropout_rate': 0.5, 'learning_rate': 0.001, 'batch_size': 16, 'epochs': 10}\n",
            "============================================================\n",
            "Epoch 1/10\n",
            "\u001b[1m893/893\u001b[0m \u001b[32m━━━━━━━━━━━━━━━━━━━━\u001b[0m\u001b[37m\u001b[0m \u001b[1m180s\u001b[0m 200ms/step - accuracy: 0.6589 - loss: 0.5872\n",
            "Epoch 2/10\n",
            "\u001b[1m893/893\u001b[0m \u001b[32m━━━━━━━━━━━━━━━━━━━━\u001b[0m\u001b[37m\u001b[0m \u001b[1m173s\u001b[0m 193ms/step - accuracy: 0.6459 - loss: 0.6199\n",
            "Epoch 3/10\n",
            "\u001b[1m893/893\u001b[0m \u001b[32m━━━━━━━━━━━━━━━━━━━━\u001b[0m\u001b[37m\u001b[0m \u001b[1m203s\u001b[0m 195ms/step - accuracy: 0.6705 - loss: 0.5047\n",
            "Epoch 4/10\n",
            "\u001b[1m893/893\u001b[0m \u001b[32m━━━━━━━━━━━━━━━━━━━━\u001b[0m\u001b[37m\u001b[0m \u001b[1m173s\u001b[0m 193ms/step - accuracy: 0.6810 - loss: 0.4993\n",
            "Epoch 5/10\n",
            "\u001b[1m893/893\u001b[0m \u001b[32m━━━━━━━━━━━━━━━━━━━━\u001b[0m\u001b[37m\u001b[0m \u001b[1m168s\u001b[0m 189ms/step - accuracy: 0.6800 - loss: 0.4986\n",
            "Epoch 6/10\n",
            "\u001b[1m893/893\u001b[0m \u001b[32m━━━━━━━━━━━━━━━━━━━━\u001b[0m\u001b[37m\u001b[0m \u001b[1m166s\u001b[0m 186ms/step - accuracy: 0.6882 - loss: 0.4984\n",
            "Epoch 7/10\n",
            "\u001b[1m893/893\u001b[0m \u001b[32m━━━━━━━━━━━━━━━━━━━━\u001b[0m\u001b[37m\u001b[0m \u001b[1m204s\u001b[0m 188ms/step - accuracy: 0.6926 - loss: 0.4925\n",
            "Epoch 8/10\n",
            "\u001b[1m893/893\u001b[0m \u001b[32m━━━━━━━━━━━━━━━━━━━━\u001b[0m\u001b[37m\u001b[0m \u001b[1m201s\u001b[0m 188ms/step - accuracy: 0.6838 - loss: 0.5090\n",
            "Epoch 9/10\n",
            "\u001b[1m893/893\u001b[0m \u001b[32m━━━━━━━━━━━━━━━━━━━━\u001b[0m\u001b[37m\u001b[0m \u001b[1m167s\u001b[0m 187ms/step - accuracy: 0.6895 - loss: 0.4977\n",
            "Epoch 10/10\n",
            "\u001b[1m893/893\u001b[0m \u001b[32m━━━━━━━━━━━━━━━━━━━━\u001b[0m\u001b[37m\u001b[0m \u001b[1m168s\u001b[0m 188ms/step - accuracy: 0.6962 - loss: 0.4920\n",
            "\n",
            "Results:\n",
            "  Accuracy:    0.7059\n",
            "  Precision:   0.5754\n",
            "  Recall:      0.6484\n",
            "  F1 Score:    0.6097\n",
            "  ROC AUC:     0.7868\n",
            "  Specificity: 0.7374\n",
            "  TP: 3282, TN: 6802, FP: 2422, FN: 1780\n"
          ]
        }
      ]
    },
    {
      "cell_type": "code",
      "source": [
        "results_df = pd.DataFrame(results)\n",
        "results_df = results_df.sort_values('roc_auc', ascending=False)"
      ],
      "metadata": {
        "id": "P2JJXZzdH5if"
      },
      "execution_count": 14,
      "outputs": []
    },
    {
      "cell_type": "code",
      "source": [
        "print(\"\\n\" + \"=\"*60)\n",
        "print(\"FINAL RESULTS (sorted by roc_auc)\")\n",
        "print(\"=\"*60)\n",
        "print(results_df[['lstm_units', 'dropout_rate', 'learning_rate', 'batch_size',\n",
        "                   'accuracy', 'precision', 'recall', 'f1_score', 'roc_auc']].to_string(index=False))"
      ],
      "metadata": {
        "colab": {
          "base_uri": "https://localhost:8080/"
        },
        "id": "5vc5d89bICDe",
        "outputId": "ee09c10e-7715-445e-8dad-c9e4bca22510"
      },
      "execution_count": 18,
      "outputs": [
        {
          "output_type": "stream",
          "name": "stdout",
          "text": [
            "\n",
            "============================================================\n",
            "FINAL RESULTS (sorted by roc_auc)\n",
            "============================================================\n",
            " lstm_units  dropout_rate  learning_rate  batch_size  accuracy  precision   recall  f1_score  roc_auc\n",
            "         32           0.2          0.001          32  0.686546   0.539332 0.790992  0.641358 0.778299\n",
            "         64           0.3          0.001          32  0.702226   0.562655 0.716713  0.630408 0.784117\n",
            "         64           0.5          0.001          16  0.705866   0.575386 0.648360  0.609697 0.786787\n",
            "        128           0.2          0.001          16  0.700056   0.606468 0.437179  0.508093 0.789157\n"
          ]
        }
      ]
    },
    {
      "cell_type": "code",
      "source": [
        "print(\"\\n\" + \"=\"*60)\n",
        "print(\"BEST MODEL:\")\n",
        "print(\"=\"*60)\n",
        "best = results_df.iloc[-1]\n",
        "print(f\"LSTM Units: {best['lstm_units']}\")\n",
        "print(f\"Dropout: {best['dropout_rate']}\")\n",
        "print(f\"Learning Rate: {best['learning_rate ']}\")\n",
        "print(f\"Batch Size: {best['batch_size']}\")\n",
        "print(f\"roc_auc: {best['roc_auc']:.4f}\")"
      ],
      "metadata": {
        "colab": {
          "base_uri": "https://localhost:8080/"
        },
        "id": "RexCje9wIF7m",
        "outputId": "210eac14-cbf8-4a0a-84bd-0bbbd3207827"
      },
      "execution_count": 20,
      "outputs": [
        {
          "output_type": "stream",
          "name": "stdout",
          "text": [
            "\n",
            "============================================================\n",
            "BEST MODEL:\n",
            "============================================================\n",
            "LSTM Units: 128.0\n",
            "Dropout: 0.2\n",
            "Learning Rate: 0.001\n",
            "Batch Size: 16.0\n",
            "roc_auc: 0.7892\n"
          ]
        }
      ]
    },
    {
      "cell_type": "code",
      "source": [
        "##Saving model\n",
        "from tensorflow.keras.models import save_model\n",
        "\n",
        "# Extract best params\n",
        "lstm_units = int(best['lstm_units'])\n",
        "dropout_rate = best['dropout_rate']\n",
        "learning_rate = best['learning_rate']\n",
        "batch_size = int(best['batch_size'])\n",
        "best_model = create_model(\n",
        "    lstm_units=lstm_units,\n",
        "    dropout_rate=dropout_rate,\n",
        "    learning_rate=learning_rate\n",
        ")\n",
        "best_model.fit(\n",
        "    X, y,\n",
        "    epochs= 12,\n",
        "    batch_size=batch_size,\n",
        "    verbose=1\n",
        ")\n",
        "\n",
        "best_model.save(\"LSTM_model.h5\")\n",
        "print(\"Best model trained and saved as LSTM_model.h5\")"
      ],
      "metadata": {
        "id": "d8BGkAf-1wq3",
        "outputId": "d7b072f8-3ec9-4d0d-c373-ec72c43e1bb4",
        "colab": {
          "base_uri": "https://localhost:8080/"
        }
      },
      "execution_count": 22,
      "outputs": [
        {
          "output_type": "stream",
          "name": "stdout",
          "text": [
            "Epoch 1/12\n",
            "\u001b[1m893/893\u001b[0m \u001b[32m━━━━━━━━━━━━━━━━━━━━\u001b[0m\u001b[37m\u001b[0m \u001b[1m263s\u001b[0m 292ms/step - accuracy: 0.6619 - loss: 0.5498\n",
            "Epoch 2/12\n",
            "\u001b[1m893/893\u001b[0m \u001b[32m━━━━━━━━━━━━━━━━━━━━\u001b[0m\u001b[37m\u001b[0m \u001b[1m269s\u001b[0m 301ms/step - accuracy: 0.6431 - loss: 0.6147\n",
            "Epoch 3/12\n",
            "\u001b[1m893/893\u001b[0m \u001b[32m━━━━━━━━━━━━━━━━━━━━\u001b[0m\u001b[37m\u001b[0m \u001b[1m266s\u001b[0m 298ms/step - accuracy: 0.6568 - loss: 0.5146\n",
            "Epoch 4/12\n",
            "\u001b[1m893/893\u001b[0m \u001b[32m━━━━━━━━━━━━━━━━━━━━\u001b[0m\u001b[37m\u001b[0m \u001b[1m264s\u001b[0m 296ms/step - accuracy: 0.6657 - loss: 0.5145\n",
            "Epoch 5/12\n",
            "\u001b[1m893/893\u001b[0m \u001b[32m━━━━━━━━━━━━━━━━━━━━\u001b[0m\u001b[37m\u001b[0m \u001b[1m262s\u001b[0m 294ms/step - accuracy: 0.6603 - loss: 0.5040\n",
            "Epoch 6/12\n",
            "\u001b[1m893/893\u001b[0m \u001b[32m━━━━━━━━━━━━━━━━━━━━\u001b[0m\u001b[37m\u001b[0m \u001b[1m262s\u001b[0m 293ms/step - accuracy: 0.6734 - loss: 0.5007\n",
            "Epoch 7/12\n",
            "\u001b[1m893/893\u001b[0m \u001b[32m━━━━━━━━━━━━━━━━━━━━\u001b[0m\u001b[37m\u001b[0m \u001b[1m264s\u001b[0m 296ms/step - accuracy: 0.6775 - loss: 0.4993\n",
            "Epoch 8/12\n",
            "\u001b[1m893/893\u001b[0m \u001b[32m━━━━━━━━━━━━━━━━━━━━\u001b[0m\u001b[37m\u001b[0m \u001b[1m321s\u001b[0m 295ms/step - accuracy: 0.6746 - loss: 0.5011\n",
            "Epoch 9/12\n",
            "\u001b[1m893/893\u001b[0m \u001b[32m━━━━━━━━━━━━━━━━━━━━\u001b[0m\u001b[37m\u001b[0m \u001b[1m319s\u001b[0m 291ms/step - accuracy: 0.6853 - loss: 0.4942\n",
            "Epoch 10/12\n",
            "\u001b[1m893/893\u001b[0m \u001b[32m━━━━━━━━━━━━━━━━━━━━\u001b[0m\u001b[37m\u001b[0m \u001b[1m263s\u001b[0m 293ms/step - accuracy: 0.6911 - loss: 0.5023\n",
            "Epoch 11/12\n",
            "\u001b[1m893/893\u001b[0m \u001b[32m━━━━━━━━━━━━━━━━━━━━\u001b[0m\u001b[37m\u001b[0m \u001b[1m262s\u001b[0m 293ms/step - accuracy: 0.6945 - loss: 0.4913\n",
            "Epoch 12/12\n",
            "\u001b[1m893/893\u001b[0m \u001b[32m━━━━━━━━━━━━━━━━━━━━\u001b[0m\u001b[37m\u001b[0m \u001b[1m264s\u001b[0m 296ms/step - accuracy: 0.6981 - loss: 0.4910\n"
          ]
        },
        {
          "output_type": "stream",
          "name": "stderr",
          "text": [
            "WARNING:absl:You are saving your model as an HDF5 file via `model.save()` or `keras.saving.save_model(model)`. This file format is considered legacy. We recommend using instead the native Keras format, e.g. `model.save('my_model.keras')` or `keras.saving.save_model(model, 'my_model.keras')`. \n"
          ]
        },
        {
          "output_type": "stream",
          "name": "stdout",
          "text": [
            "Best model trained and saved as LSTM_model.h5\n"
          ]
        }
      ]
    },
    {
      "cell_type": "code",
      "source": [
        "df_test = pd.read_csv('test.csv')"
      ],
      "metadata": {
        "id": "hkPaaY03P3sB"
      },
      "execution_count": 23,
      "outputs": []
    },
    {
      "cell_type": "code",
      "source": [
        "from tensorflow.keras.models import load_model\n",
        "model = load_model('LSTM_model.h5')"
      ],
      "metadata": {
        "id": "jP0CuZ46GD9D",
        "outputId": "e43852f0-045c-4fcc-9d62-189f7482ff2e",
        "colab": {
          "base_uri": "https://localhost:8080/"
        }
      },
      "execution_count": 25,
      "outputs": [
        {
          "output_type": "stream",
          "name": "stderr",
          "text": [
            "WARNING:absl:Compiled the loaded model, but the compiled metrics have yet to be built. `model.compile_metrics` will be empty until you train or evaluate the model.\n"
          ]
        }
      ]
    },
    {
      "cell_type": "code",
      "source": [
        "#Testing\n",
        "X_test = [encode_sequence(seq) for seq in df_test['sequence']]\n",
        "y_test = df_test['class'].values\n",
        "\n",
        "X_test = pad_sequences(X_test, maxlen=maxlen, padding='post', dtype='float32')\n",
        "loss, acc = model.evaluate(X_test, y_test)\n",
        "print(f\"Test Accuracy: {acc:.4f}\")"
      ],
      "metadata": {
        "colab": {
          "base_uri": "https://localhost:8080/"
        },
        "id": "qzRPtodIQHs_",
        "outputId": "f1924f78-90ff-4035-fd69-2c9ce45733da"
      },
      "execution_count": 26,
      "outputs": [
        {
          "output_type": "stream",
          "name": "stdout",
          "text": [
            "\u001b[1m138/138\u001b[0m \u001b[32m━━━━━━━━━━━━━━━━━━━━\u001b[0m\u001b[37m\u001b[0m \u001b[1m41s\u001b[0m 292ms/step - accuracy: 0.5806 - loss: 0.6598\n",
            "Test Accuracy: 0.6019\n"
          ]
        }
      ]
    },
    {
      "cell_type": "code",
      "source": [
        "## Plot metrics\n",
        "import matplotlib.pyplot as plt\n",
        "from sklearn.metrics import roc_curve, auc, confusion_matrix, ConfusionMatrixDisplay"
      ],
      "metadata": {
        "id": "G8ZgknDPGMY2"
      },
      "execution_count": 27,
      "outputs": []
    },
    {
      "cell_type": "code",
      "source": [
        "y_pred_prob = model.predict(X_test)\n",
        "y_pred = (y_pred_prob >= 0.5).astype(int)\n",
        "\n",
        "# --- Confusion Matrix ---\n",
        "cm = confusion_matrix(y_test, y_pred)\n",
        "disp = ConfusionMatrixDisplay(confusion_matrix=cm, display_labels=[0,1])\n",
        "disp.plot(cmap=plt.cm.Blues)\n",
        "plt.title('Confusion Matrix')\n",
        "plt.show()"
      ],
      "metadata": {
        "id": "X4Z29zZcGSqH",
        "outputId": "8350d09f-014a-4276-be0a-fbd8eb94da9f",
        "colab": {
          "base_uri": "https://localhost:8080/",
          "height": 489
        }
      },
      "execution_count": 28,
      "outputs": [
        {
          "output_type": "stream",
          "name": "stdout",
          "text": [
            "\u001b[1m138/138\u001b[0m \u001b[32m━━━━━━━━━━━━━━━━━━━━\u001b[0m\u001b[37m\u001b[0m \u001b[1m38s\u001b[0m 273ms/step\n"
          ]
        },
        {
          "output_type": "display_data",
          "data": {
            "text/plain": [
              "<Figure size 640x480 with 2 Axes>"
            ],
            "image/png": "[encoded data removed]"
          },
          "metadata": {}
        }
      ]
    },
    {
      "cell_type": "code",
      "source": [
        "# --- ROC Curve ---\n",
        "fpr, tpr, thresholds = roc_curve(y_test, y_pred_prob)\n",
        "roc_auc_val = auc(fpr, tpr)\n",
        "\n",
        "plt.figure(figsize=(6,6))\n",
        "plt.plot(fpr, tpr, color='blue', lw=2, label=f'ROC curve (AUC = {roc_auc_val:.2f})')\n",
        "plt.plot([0,1],[0,1], color='gray', lw=1, linestyle='--')\n",
        "plt.xlabel('False Positive Rate')\n",
        "plt.ylabel('True Positive Rate')\n",
        "plt.title('ROC Curve')\n",
        "plt.legend(loc='lower right')\n",
        "plt.show()"
      ],
      "metadata": {
        "id": "cdNQ7Q7cGh1x",
        "outputId": "64b4e0af-02fa-4ccf-c36a-e17f063f25cb",
        "colab": {
          "base_uri": "https://localhost:8080/",
          "height": 564
        }
      },
      "execution_count": 29,
      "outputs": [
        {
          "output_type": "display_data",
          "data": {
            "text/plain": [
              "<Figure size 600x600 with 1 Axes>"
            ],
            "image/png": "[encoded data removed]"
          },
          "metadata": {}
        }
      ]
    }
  ]
}